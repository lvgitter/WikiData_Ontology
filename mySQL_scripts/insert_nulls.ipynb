{
 "cells": [
  {
   "cell_type": "code",
   "execution_count": 20,
   "metadata": {},
   "outputs": [
    {
     "name": "stdout",
     "output_type": "stream",
     "text": [
      "s\n"
     ]
    }
   ],
   "source": [
    "with open(\"../books/create.sql\", \"r\") as fin, open(\"create_with_nulls.sql\", \"w\") as fout:\n",
    "    lines = fin.read().split(\"\\n\")\n",
    "    i = 0\n",
    "    sout = \"\"\n",
    "    print(\"s\")\n",
    "    while i < len(lines):\n",
    "        line = lines[i]\n",
    "        fields = []\n",
    "        if \"TABLE\" in line:\n",
    "            i += 1\n",
    "            while \");\" not in lines[i]:\n",
    "                fields.append(lines[i].split(\"varchar\")[0].rstrip().lstrip())\n",
    "                i += 1\n",
    "            sout = \"\\n(\"\n",
    "            for field in fields:\n",
    "                sout += \"@\" + field + \", \"\n",
    "            sout = sout[:-2]\n",
    "            sout += \")\\nSET \"\n",
    "            for field in fields:\n",
    "                sout += field + \" = IF(@\" + field + \"='',NULL,@\" + field + \"), \"\n",
    "            sout = sout[:-2] + \";\"\n",
    "            sout += \"\\n\\n\"\n",
    "            fout.write(sout)\n",
    "        i += 1\n",
    "        \n",
    "        \n",
    "        #SET book_id = IF(@book_id='',null,@book_id), book_label = IF(@book_label='',null,@book_label), book_description = IF(@book_description='',null,@book_description), title = IF(@title='',null,@title), subtitle = IF(@subtitle='',null,@subtitle), first_line = IF(@first_line='',null,@first_line), series = IF(@series='',null,@series);\n",
    "            \n",
    "            \n",
    "            \n",
    "            \n",
    "            \n",
    "            \n",
    "            "
   ]
  }
 ],
 "metadata": {
  "kernelspec": {
   "display_name": "Python 3 jpt",
   "language": "python",
   "name": "python3"
  },
  "language_info": {
   "codemirror_mode": {
    "name": "ipython",
    "version": 3
   },
   "file_extension": ".py",
   "mimetype": "text/x-python",
   "name": "python",
   "nbconvert_exporter": "python",
   "pygments_lexer": "ipython3",
   "version": "3.5.2"
  }
 },
 "nbformat": 4,
 "nbformat_minor": 2
}
